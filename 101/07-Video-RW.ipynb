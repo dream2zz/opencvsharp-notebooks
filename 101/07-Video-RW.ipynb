{
 "cells": [
  {
   "cell_type": "code",
   "execution_count": 1,
   "metadata": {
    "dotnet_interactive": {
     "language": "csharp"
    },
    "polyglot_notebook": {
     "kernelName": "csharp"
    },
    "vscode": {
     "languageId": "polyglot-notebook"
    }
   },
   "outputs": [
    {
     "data": {
      "text/html": [
       "<div><div></div><div></div><div><strong>Installed Packages</strong><ul><li><span>OpenCvSharp4.Windows, 4.10.0.20240616</span></li></ul></div></div>"
      ]
     },
     "metadata": {},
     "output_type": "display_data"
    }
   ],
   "source": [
    "#r \"nuget: OpenCvSharp4.Windows\"\n",
    "using OpenCvSharp;"
   ]
  },
  {
   "cell_type": "markdown",
   "metadata": {},
   "source": [
    "## Video Write"
   ]
  },
  {
   "cell_type": "code",
   "execution_count": 2,
   "metadata": {
    "dotnet_interactive": {
     "language": "csharp"
    },
    "polyglot_notebook": {
     "kernelName": "csharp"
    },
    "vscode": {
     "languageId": "polyglot-notebook"
    }
   },
   "outputs": [
    {
     "name": "stdout",
     "output_type": "stream",
     "text": [
      "Converting each movie frames...\n",
      "...................................................................................................................................................................................................................................................................................................................................................................................................................................................................................................................................................................................................................................................................................................................................................................................................................................................................................................................................................................................................................................................................................................................................................................................................................................................................................................................................................................................................................................................................................................................................................................................................................................................................................................................................................................................................................................................................................................................................................................................................................................................................................................................................................................................................................................................................................................................................................................................................................................................................................................................................................................................over\n"
     ]
    }
   ],
   "source": [
    "// Opens MP4 file (ffmpeg is probably needed)\n",
    "var capture = new VideoCapture(\"BV1Qz4y1W7VD.mp4\");\n",
    "\n",
    "// Read movie frames and write them to VideoWriter \n",
    "var dsize = new Size(640, 480);\n",
    "var writer = new VideoWriter(\"out.mp4\", -1, capture.Fps, dsize);\n",
    "\n",
    "Console.WriteLine(\"Converting each movie frames...\");\n",
    "var frame = new Mat();\n",
    "while (true)\n",
    "{\n",
    "    // Read image\n",
    "    capture.Read(frame);\n",
    "    if (frame.Empty())\n",
    "        break;\n",
    "\n",
    "    Console.Write(\".\"); \n",
    "    // Console.Write(\"{0} / {1}\", capture.PosFrames, capture.FrameCount);\n",
    "\n",
    "    // grayscale -> canny -> resize\n",
    "    using var gray = new Mat();\n",
    "    using var canny = new Mat();\n",
    "    using var dst = new Mat();\n",
    "    Cv2.CvtColor(frame, gray, ColorConversionCodes.BGR2GRAY);\n",
    "    Cv2.Canny(gray, canny, 100, 180);\n",
    "    Cv2.Resize(canny, dst, dsize, 0, 0, InterpolationFlags.Linear);\n",
    "    // Write mat to VideoWriter\n",
    "    writer.Write(dst);\n",
    "}\n",
    "Console.WriteLine(\"over\");\n"
   ]
  },
  {
   "cell_type": "markdown",
   "metadata": {},
   "source": [
    "## Video Read"
   ]
  },
  {
   "cell_type": "code",
   "execution_count": 4,
   "metadata": {
    "dotnet_interactive": {
     "language": "csharp"
    },
    "polyglot_notebook": {
     "kernelName": "csharp"
    },
    "vscode": {
     "languageId": "polyglot-notebook"
    }
   },
   "outputs": [],
   "source": [
    "// Opens MP4 file (ffmpeg is probably needed)\n",
    "var capture2 = new VideoCapture(\"out.mp4\");\n",
    "\n",
    "int sleepTime = (int) Math.Round(1000 / capture.Fps);\n",
    "\n",
    "using (Window window = new Window(\"result\"))\n",
    "using (Mat image = new Mat()) // Frame image buffer\n",
    "{\n",
    "    // When the movie playback reaches end, Mat.data becomes NULL.\n",
    "    while (true)\n",
    "    {\n",
    "        capture2.Read(image); // same as cvQueryFrame\n",
    "        if (image.Empty())\n",
    "            break;\n",
    "\n",
    "        window.ShowImage(image);\n",
    "        Cv2.WaitKey(sleepTime);\n",
    "    } \n",
    "}"
   ]
  }
 ],
 "metadata": {
  "kernelspec": {
   "display_name": ".NET (C#)",
   "language": "C#",
   "name": ".net-csharp"
  },
  "language_info": {
   "name": "csharp"
  },
  "polyglot_notebook": {
   "kernelInfo": {
    "defaultKernelName": "csharp",
    "items": [
     {
      "aliases": [],
      "name": "csharp"
     }
    ]
   }
  }
 },
 "nbformat": 4,
 "nbformat_minor": 2
}

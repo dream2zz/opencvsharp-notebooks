{
 "cells": [
  {
   "cell_type": "markdown",
   "metadata": {},
   "source": [
    "## 像素访问\n",
    "\n",
    "### 慢方式\n",
    "通过逐像素地访问和修改图像数据来交换图像中每个像素的蓝色（B）和红色（R）通道。"
   ]
  },
  {
   "cell_type": "code",
   "execution_count": 1,
   "metadata": {
    "dotnet_interactive": {
     "language": "csharp"
    },
    "polyglot_notebook": {
     "kernelName": "csharp"
    },
    "vscode": {
     "languageId": "polyglot-notebook"
    }
   },
   "outputs": [
    {
     "data": {
      "text/html": [
       "<div><div></div><div></div><div><strong>Installed Packages</strong><ul><li><span>OpenCvSharp4.Windows, 4.10.0.20240616</span></li></ul></div></div>"
      ]
     },
     "metadata": {},
     "output_type": "display_data"
    }
   ],
   "source": [
    "#r \"nuget: OpenCvSharp4.Windows\"\n",
    "\n",
    "using OpenCvSharp;\n",
    "\n",
    "using(var mat = new Mat(\"unsplash.jpg\", ImreadModes.Color))\n",
    "{\n",
    "    for (int y = 0; y < mat.Height; y++)\n",
    "    {\n",
    "        for (int x = 0; x < mat.Width; x++)\n",
    "        {\n",
    "            Vec3b color = mat.Get<Vec3b>(y, x);\n",
    "            Vec3b newColor = new Vec3b(color.Item2, color.Item1, color.Item0);\n",
    "            mat.Set<Vec3b>(y, x, newColor);\n",
    "        }\n",
    "    }\n",
    "    Cv2.ImShow(\"Slow\", mat);\n",
    "    Cv2.WaitKey(0);\n",
    "    Cv2.DestroyAllWindows();\n",
    "}"
   ]
  },
  {
   "cell_type": "markdown",
   "metadata": {},
   "source": [
    "这种逐像素访问和修改的方法效率较低，特别是对于大图像，因为每次访问和设置像素值都涉及到方法调用和边界检查。\n",
    "1. using var mat = new Mat(ImagePath.Lenna, ImreadModes.Color);\n",
    "   - 这行代码创建了一个 Mat 对象，表示一个图像矩阵。\"unsplash.jpg\" 是图像的路径，ImreadModes.Color 表示以彩色模式读取图像。\n",
    "   - using 关键字确保在方法结束时自动释放 mat 对象，避免内存泄漏。\n",
    "2. 外层循环遍历图像的每一行（高度），内层循环遍历图像的每一列（宽度）。\n",
    "3. 使用 Get 方法获取图像中 (y, x) 位置的像素值。Vec3b 是一个包含三个字节的向量，分别表示蓝色（B）、绿色（G）和红色（R）通道。\n",
    "4. 创建一个新的 Vec3b 对象 newColor，交换蓝色和红色通道的位置。color.Item2 是红色通道，color.Item0 是蓝色通道。\n",
    "5. 使用 Set 方法将新的像素值 newColor 设置回图像中 (y, x) 位置。\n",
    "6. Cv2.ImShow(\"Slow\", mat) 用于显示修改后的图像\n",
    "7. Cv2.DestroyAllWindows() 用于销毁所有创建的窗口，也被注释掉了。\n",
    "\n",
    "\n",
    "### 快方式\n",
    "通过使用通用索引器来访问和修改图像数据，从而交换图像中每个像素的蓝色（B）和红色（R）通道。相比上面的方法，这种方法效率更高。"
   ]
  },
  {
   "cell_type": "code",
   "execution_count": 4,
   "metadata": {
    "vscode": {
     "languageId": "polyglot-notebook"
    }
   },
   "outputs": [],
   "source": [
    "using(var mat = new Mat(\"unsplash.jpg\", ImreadModes.Color))\n",
    "{\n",
    "    var indexer = mat.GetGenericIndexer<Vec3b>();\n",
    "    for (int y = 0; y < mat.Height; y++)\n",
    "    {\n",
    "        for (int x = 0; x < mat.Width; x++)\n",
    "        {\n",
    "            Vec3b color = indexer[y, x];\n",
    "            Vec3b newColor = new Vec3b(color.Item2, color.Item1, color.Item0);\n",
    "            indexer[y, x] = newColor;\n",
    "        }\n",
    "    }\n",
    "    Cv2.ImShow(\"GenericIndexer\", mat);\n",
    "    Cv2.WaitKey(0);\n",
    "    Cv2.DestroyAllWindows();\n",
    "}"
   ]
  },
  {
   "cell_type": "markdown",
   "metadata": {},
   "source": [
    "1. 获取一个通用索引器 indexer，用于访问和修改图像中的像素值。Vec3b 是一个包含三个字节的向量，分别表示蓝色（B）、绿色（G）和红色（R）通道。\n",
    "2. 使用索引器获取图像中 (y, x) 位置的像素值。\n",
    "3. 创建一个新的 Vec3b 对象 newColor，交换蓝色和红色通道的位置。color.Item2 是红色通道，color.Item0 是蓝色通道。\n",
    "4. 使用索引器将新的像素值 newColor 设置回图像中 (y, x) 位置。\n",
    "\n",
    "GenericIndexer 方法通过使用通用索引器来访问和修改像素值，减少了方法调用的开销，因此效率更高。\n",
    "\n",
    "### 更快的方式\n",
    "通过使用类型特定的矩阵和索引器来访问和修改图像数据，从而交换图像中每个像素的蓝色（B）和红色（R）通道。"
   ]
  },
  {
   "cell_type": "code",
   "execution_count": null,
   "metadata": {
    "vscode": {
     "languageId": "polyglot-notebook"
    }
   },
   "outputs": [],
   "source": [
    "using(var mat = new Mat(\"unsplash.jpg\", ImreadModes.Color))\n",
    "{\n",
    "    var mat3 = new Mat<Vec3b>(mat);\n",
    "    var indexer = mat3.GetIndexer();\n",
    "    for (int y = 0; y < mat.Height; y++)\n",
    "    {\n",
    "        for (int x = 0; x < mat.Width; x++)\n",
    "        {\n",
    "            Vec3b color = indexer[y, x];\n",
    "            Vec3b newColor = new Vec3b(color.Item2, color.Item1, color.Item0);\n",
    "            indexer[y, x] = newColor;\n",
    "        }\n",
    "    }\n",
    "    Cv2.ImShow(\"TypeSpecificMat\", mat);\n",
    "    Cv2.WaitKey(0);\n",
    "    Cv2.DestroyAllWindows();\n",
    "}"
   ]
  },
  {
   "cell_type": "markdown",
   "metadata": {},
   "source": [
    "1. 创建一个类型特定的 Mat 对象 mat3，其中 Vec3b 表示每个像素包含三个字节，分别表示蓝色（B）、绿色（G）和红色（R）通道。\n",
    "2. 获取一个类型特定的索引器 indexer，用于访问和修改图像中的像素值。\n",
    "3. 使用索引器获取图像中 (y, x) 位置的像素值。\n",
    "4. 创建一个新的 Vec3b 对象 newColor，交换蓝色和红色通道的位置。color.Item2 是红色通道，color.Item0 是蓝色通道。\n",
    "5. 使用索引器将新的像素值 newColor 设置回图像中 (y, x) 位置。"
   ]
  }
 ],
 "metadata": {
  "kernelspec": {
   "display_name": ".NET (C#)",
   "language": "C#",
   "name": ".net-csharp"
  },
  "language_info": {
   "name": "csharp"
  },
  "polyglot_notebook": {
   "kernelInfo": {
    "defaultKernelName": "csharp",
    "items": [
     {
      "aliases": [],
      "name": "csharp"
     }
    ]
   }
  }
 },
 "nbformat": 4,
 "nbformat_minor": 2
}

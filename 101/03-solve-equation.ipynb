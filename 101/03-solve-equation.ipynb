{
 "cells": [
  {
   "cell_type": "markdown",
   "metadata": {},
   "source": [
    "## Solve Equation\n",
    "\n",
    "### 求解方程组\n",
    "\n",
    "$$\n",
    "\\begin{cases} \n",
    "x + y = 10 \\\\\n",
    "2x + 3y = 26 \n",
    "\\end{cases}\n",
    "$$"
   ]
  },
  {
   "cell_type": "markdown",
   "metadata": {},
   "source": [
    "#### 代入法\n",
    "\n",
    "**步骤1：解第一个方程表示一个变量**\n",
    "\n",
    "从第一个方程 $x + y = 10$ 中解出 $x$：\n",
    "$$ x = 10 - y $$\n",
    "\n",
    "**步骤2：将表达式代入第二个方程**\n",
    "\n",
    "将 $x = 10 - y$ 代入第二个方程 $2x + 3y = 26$：\n",
    "$$ 2(10 - y) + 3y = 26 $$\n",
    "\n",
    "**步骤3：展开并解方程**\n",
    "\n",
    "展开并简化方程：\n",
    "$$ 20 - 2y + 3y = 26 $$ \n",
    "$$ 20 + y = 26 $$\n",
    "$$ y = 6 $$\n",
    "\n",
    "**步骤4：求 $x$**\n",
    "\n",
    "将 $y = 6$ 代入 $x = 10 - y$：\n",
    "$$ x = 10 - 6 $$\n",
    "$$ x = 4 $$\n",
    "\n",
    "因此，解是：\n",
    "$$ x = 4 $$\n",
    "$$ y = 6 $$"
   ]
  },
  {
   "cell_type": "code",
   "execution_count": 4,
   "metadata": {
    "dotnet_interactive": {
     "language": "csharp"
    },
    "polyglot_notebook": {
     "kernelName": "csharp"
    },
    "vscode": {
     "languageId": "polyglot-notebook"
    }
   },
   "outputs": [
    {
     "name": "stdout",
     "output_type": "stream",
     "text": [
      "x = 4\n",
      "y = 6\n"
     ]
    }
   ],
   "source": [
    "double a1 = 1, b1 = 1, c1 = 10;\n",
    "double a2 = 2, b2 = 3, c2 = 26;\n",
    "\n",
    "double y;\n",
    "\n",
    "\n",
    "y = (c2 - 2 * c1) / (b2 - 2 * b1);\n",
    "\n",
    "double x = 10 - y;\n",
    "\n",
    "Console.WriteLine($\"x = {x}\");\n",
    "Console.WriteLine($\"y = {y}\");"
   ]
  },
  {
   "cell_type": "markdown",
   "metadata": {},
   "source": [
    "### 高斯消元法\n",
    "\n",
    "\n",
    "**步骤1：写成增广矩阵**\n",
    "\n",
    "将方程组写成增广矩阵的形式：\n",
    "\n",
    "$$\n",
    "\\left[\\begin{array}{cc|c}\n",
    "1 & 1 & 10 \\\\\n",
    "2 & 3 & 26\n",
    "\\end{array}\\right]\n",
    "$$\n",
    "\n",
    "**步骤2：消元**\n",
    "\n",
    "对第二行进行操作，使其第一个元素为0：\n",
    "\n",
    "$$\n",
    "R2 \\leftarrow R2 - 2R1\n",
    "$$\n",
    "\n",
    "计算后得到：\n",
    "\n",
    "$$\n",
    "\\left[\\begin{array}{cc|c}\n",
    "1 & 1 & 10 \\\\\n",
    "0 & 1 & 6\n",
    "\\end{array}\\right]\n",
    "$$\n",
    "\n",
    "**步骤3：回代**\n",
    "\n",
    "从第二行回代到第一行：\n",
    "\n",
    "$$\n",
    "R1 \\leftarrow R1 - R2\n",
    "$$\n",
    "\n",
    "计算后得到：\n",
    "\n",
    "$$\n",
    "\\left[\\begin{array}{cc|c}\n",
    "1 & 0 & 4 \\\\\n",
    "0 & 1 & 6\n",
    "\\end{array}\\right]\n",
    "$$\n",
    "\n",
    "**结果**\n",
    "\n",
    "从增广矩阵中可以直接读出解答：\n",
    "\n",
    "$$\n",
    "x = 4 \\\\\n",
    "y = 6\n",
    "$$\n"
   ]
  },
  {
   "cell_type": "code",
   "execution_count": 5,
   "metadata": {
    "dotnet_interactive": {
     "language": "csharp"
    },
    "polyglot_notebook": {
     "kernelName": "csharp"
    },
    "vscode": {
     "languageId": "polyglot-notebook"
    }
   },
   "outputs": [
    {
     "name": "stdout",
     "output_type": "stream",
     "text": [
      "x = 4\n",
      "y = 6\n"
     ]
    }
   ],
   "source": [
    "// 定义方程组的系数和常数项\n",
    "double[,] A = {\n",
    "    { 1, 1 },\n",
    "    { 2, 3 }\n",
    "};\n",
    "double[] B = { 10, 26 };\n",
    "\n",
    "// 高斯消元法\n",
    "int n = 2; // 方程组的个数\n",
    "\n",
    "// 消元过程\n",
    "for (int i = 0; i < n; i++)\n",
    "{\n",
    "    // 寻找主元\n",
    "    for (int k = i + 1; k < n; k++)\n",
    "    {\n",
    "        double factor = A[k, i] / A[i, i];\n",
    "        for (int j = i; j < n; j++)\n",
    "        {\n",
    "            A[k, j] -= factor * A[i, j];\n",
    "        }\n",
    "        B[k] -= factor * B[i];\n",
    "    }\n",
    "}\n",
    "\n",
    "// 回代过程\n",
    "double[] X = new double[n];\n",
    "for (int i = n - 1; i >= 0; i--)\n",
    "{\n",
    "    X[i] = B[i];\n",
    "    for (int j = i + 1; j < n; j++)\n",
    "    {\n",
    "        X[i] -= A[i, j] * X[j];\n",
    "    }\n",
    "    X[i] /= A[i, i];\n",
    "}\n",
    "\n",
    "// 输出结果\n",
    "Console.WriteLine($\"x = {X[0]}\");\n",
    "Console.WriteLine($\"y = {X[1]}\");"
   ]
  },
  {
   "cell_type": "markdown",
   "metadata": {},
   "source": [
    "### 线性代数 LU 分解法\n",
    "\n",
    "**步骤1：写成矩阵形式**\n",
    "\n",
    "将方程组写成矩阵形式：\n",
    "\n",
    "$$\n",
    "A = \\begin{pmatrix}\n",
    "1 & 1 \\\\\n",
    "2 & 3\n",
    "\\end{pmatrix}, \\quad\n",
    "\\mathbf{b} = \\begin{pmatrix}\n",
    "10 \\\\\n",
    "26\n",
    "\\end{pmatrix}\n",
    "$$\n",
    "\n",
    "**步骤2：进行 LU 分解**\n",
    "\n",
    "将矩阵 \\( A \\) 分解为下三角矩阵 \\( L \\) 和上三角矩阵 \\( U \\)：\n",
    "\n",
    "$$\n",
    "A = LU\n",
    "$$\n",
    "\n",
    "其中：\n",
    "\n",
    "$$\n",
    "L = \\begin{pmatrix}\n",
    "1 & 0 \\\\\n",
    "2 & 1\n",
    "\\end{pmatrix}, \\quad\n",
    "U = \\begin{pmatrix}\n",
    "1 & 1 \\\\\n",
    "0 & 1\n",
    "\\end{pmatrix}\n",
    "$$\n",
    "\n",
    "**步骤3：解方程**\n",
    "\n",
    "首先解下三角矩阵 \\( L \\) 的方程：\n",
    "\n",
    "$$\n",
    "L\\mathbf{y} = \\mathbf{b}\n",
    "$$\n",
    "\n",
    "即：\n",
    "\n",
    "$$\n",
    "\\begin{pmatrix}\n",
    "1 & 0 \\\\\n",
    "2 & 1\n",
    "\\end{pmatrix}\n",
    "\\begin{pmatrix}\n",
    "y_1 \\\\\n",
    "y_2\n",
    "\\end{pmatrix}\n",
    "=\n",
    "\\begin{pmatrix}\n",
    "10 \\\\\n",
    "26\n",
    "\\end{pmatrix}\n",
    "$$\n",
    "\n",
    "通过前向替代法解得：\n",
    "\n",
    "$$\n",
    "y_1 = 10 \\\\\n",
    "2y_1 + y_2 = 26 \\implies 2 \\cdot 10 + y_2 = 26 \\implies y_2 = 6\n",
    "$$\n",
    "\n",
    "所以：\n",
    "\n",
    "$$\n",
    "\\mathbf{y} = \\begin{pmatrix}\n",
    "10 \\\\\n",
    "6\n",
    "\\end{pmatrix}\n",
    "$$\n",
    "\n",
    "**步骤4：解方程**\n",
    "\n",
    "然后解上三角矩阵 \\( U \\) 的方程：\n",
    "\n",
    "$$\n",
    "U\\mathbf{x} = \\mathbf{y}\n",
    "$$\n",
    "\n",
    "即：\n",
    "\n",
    "$$\n",
    "\\begin{pmatrix}\n",
    "1 & 1 \\\\\n",
    "0 & 1\n",
    "\\end{pmatrix}\n",
    "\\begin{pmatrix}\n",
    "x \\\\\n",
    "y\n",
    "\\end{pmatrix}\n",
    "=\n",
    "\\begin{pmatrix}\n",
    "10 \\\\\n",
    "6\n",
    "\\end{pmatrix}\n",
    "$$\n",
    "\n",
    "通过回代法解得：\n",
    "\n",
    "$$\n",
    "y = 6 \\\\\n",
    "x + y = 10 \\implies x + 6 = 10 \\implies x = 4\n",
    "$$\n",
    "\n",
    "所以：\n",
    "\n",
    "$$\n",
    "\\mathbf{x} = \\begin{pmatrix}\n",
    "4 \\\\\n",
    "6\n",
    "\\end{pmatrix}\n",
    "$$\n",
    "\n",
    "**结果**\n",
    "\n",
    "因此，方程组的解是：\n",
    "\n",
    "$$\n",
    "x = 4 \\\\\n",
    "y = 6\n",
    "$$"
   ]
  },
  {
   "cell_type": "code",
   "execution_count": 6,
   "metadata": {
    "dotnet_interactive": {
     "language": "csharp"
    },
    "polyglot_notebook": {
     "kernelName": "csharp"
    },
    "vscode": {
     "languageId": "polyglot-notebook"
    }
   },
   "outputs": [
    {
     "name": "stdout",
     "output_type": "stream",
     "text": [
      "x = 4\n",
      "y = 6\n"
     ]
    }
   ],
   "source": [
    "// 定义方程组的系数和常数项\n",
    "double[,] A = {\n",
    "    { 1, 1 },\n",
    "    { 2, 3 }\n",
    "};\n",
    "double[] B = { 10, 26 };\n",
    "\n",
    "// LU 分解\n",
    "int n = 2; // 方程组的个数\n",
    "double[,] L = new double[n, n];\n",
    "double[,] U = new double[n, n];\n",
    "\n",
    "// 初始化 L 和 U\n",
    "for (int i = 0; i < n; i++)\n",
    "{\n",
    "    for (int j = 0; j < n; j++)\n",
    "    {\n",
    "        if (i == j)\n",
    "        {\n",
    "            L[i, j] = 1;\n",
    "        }\n",
    "        else\n",
    "        {\n",
    "            L[i, j] = 0;\n",
    "        }\n",
    "        U[i, j] = 0;\n",
    "    }\n",
    "}\n",
    "\n",
    "// LU 分解过程\n",
    "for (int i = 0; i < n; i++)\n",
    "{\n",
    "    for (int j = i; j < n; j++)\n",
    "    {\n",
    "        U[i, j] = A[i, j];\n",
    "        for (int k = 0; k < i; k++)\n",
    "        {\n",
    "            U[i, j] -= L[i, k] * U[k, j];\n",
    "        }\n",
    "    }\n",
    "    for (int j = i + 1; j < n; j++)\n",
    "    {\n",
    "        L[j, i] = A[j, i];\n",
    "        for (int k = 0; k < i; k++)\n",
    "        {\n",
    "            L[j, i] -= L[j, k] * U[k, i];\n",
    "        }\n",
    "        L[j, i] /= U[i, i];\n",
    "    }\n",
    "}\n",
    "\n",
    "// 求解 Ly = B\n",
    "double[] Y = new double[n];\n",
    "for (int i = 0; i < n; i++)\n",
    "{\n",
    "    Y[i] = B[i];\n",
    "    for (int j = 0; j < i; j++)\n",
    "    {\n",
    "        Y[i] -= L[i, j] * Y[j];\n",
    "    }\n",
    "}\n",
    "\n",
    "// 求解 Ux = y\n",
    "double[] X = new double[n];\n",
    "for (int i = n - 1; i >= 0; i--)\n",
    "{\n",
    "    X[i] = Y[i];\n",
    "    for (int j = i + 1; j < n; j++)\n",
    "    {\n",
    "        X[i] -= U[i, j] * X[j];\n",
    "    }\n",
    "    X[i] /= U[i, i];\n",
    "}\n",
    "\n",
    "// 输出结果\n",
    "Console.WriteLine($\"x = {X[0]}\");\n",
    "Console.WriteLine($\"y = {X[1]}\");"
   ]
  },
  {
   "cell_type": "markdown",
   "metadata": {},
   "source": [
    "## 其他\n",
    "\n",
    "C# 中有类似于 NumPy 的库，叫做 Math.NET Numerics，它可以用来求解线性方程组。"
   ]
  },
  {
   "cell_type": "code",
   "execution_count": 7,
   "metadata": {
    "dotnet_interactive": {
     "language": "csharp"
    },
    "polyglot_notebook": {
     "kernelName": "csharp"
    },
    "vscode": {
     "languageId": "polyglot-notebook"
    }
   },
   "outputs": [
    {
     "data": {
      "text/html": [
       "<div><div></div><div></div><div><strong>Installed Packages</strong><ul><li><span>MathNet.Numerics, 5.0.0</span></li></ul></div></div>"
      ]
     },
     "metadata": {},
     "output_type": "display_data"
    },
    {
     "name": "stdout",
     "output_type": "stream",
     "text": [
      "x = 4\n",
      "y = 6\n"
     ]
    }
   ],
   "source": [
    "#r \"nuget: MathNet.Numerics\"\n",
    "\n",
    "using MathNet.Numerics.LinearAlgebra;\n",
    "\n",
    "// 定义方程组的系数矩阵 A 和常数项向量 B\n",
    "var A = Matrix<double>.Build.DenseOfArray(new double[,] {\n",
    "    { 1, 1 },\n",
    "    { 2, 3 }\n",
    "});\n",
    "var B = Vector<double>.Build.Dense(new double[] { 10, 26 });\n",
    "\n",
    "// 使用 Math.NET Numerics 的 Solve 方法求解线性方程组\n",
    "var X = A.Solve(B);\n",
    "\n",
    "// 输出结果\n",
    "Console.WriteLine($\"x = {X[0]}\");\n",
    "Console.WriteLine($\"y = {X[1]}\");"
   ]
  },
  {
   "cell_type": "markdown",
   "metadata": {},
   "source": [
    "## 主题来了\n",
    "\n",
    "使用 OpenCvSharp 库解决线性方程组。"
   ]
  },
  {
   "cell_type": "code",
   "execution_count": 8,
   "metadata": {
    "vscode": {
     "languageId": "polyglot-notebook"
    }
   },
   "outputs": [
    {
     "data": {
      "text/html": [
       "<div><div></div><div></div><div><strong>Installed Packages</strong><ul><li><span>OpenCvSharp4.Windows, 4.10.0.20240616</span></li></ul></div></div>"
      ]
     },
     "metadata": {},
     "output_type": "display_data"
    }
   ],
   "source": [
    "#r \"nuget: OpenCvSharp4.Windows\"\n",
    "using OpenCvSharp;"
   ]
  },
  {
   "cell_type": "code",
   "execution_count": 9,
   "metadata": {
    "vscode": {
     "languageId": "polyglot-notebook"
    }
   },
   "outputs": [
    {
     "name": "stdout",
     "output_type": "stream",
     "text": [
      "ByMat:\n",
      "x = 4, y = 6\n"
     ]
    }
   ],
   "source": [
    "double[,] av = {{1, 1},\n",
    "                {2, 3}};\n",
    "double[] yv = { 10, 26 };\n",
    "\n",
    "var a = Mat.FromPixelData(2, 2, MatType.CV_64FC1, av);\n",
    "var y = Mat.FromPixelData(2, 1, MatType.CV_64FC1, yv);\n",
    "var x = new Mat();\n",
    "\n",
    "Cv2.Solve(a, y, x, DecompTypes.LU);\n",
    "\n",
    "Console.WriteLine(\"ByMat:\");\n",
    "Console.WriteLine(\"x = {0}, y = {1}\", x.At<double>(0), x.At<double>(1));"
   ]
  }
 ],
 "metadata": {
  "kernelspec": {
   "display_name": ".NET (C#)",
   "language": "C#",
   "name": ".net-csharp"
  },
  "language_info": {
   "name": "csharp"
  },
  "polyglot_notebook": {
   "kernelInfo": {
    "defaultKernelName": "csharp",
    "items": [
     {
      "aliases": [],
      "name": "csharp"
     }
    ]
   }
  }
 },
 "nbformat": 4,
 "nbformat_minor": 2
}

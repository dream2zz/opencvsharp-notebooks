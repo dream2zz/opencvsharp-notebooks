{
 "cells": [
  {
   "cell_type": "code",
   "execution_count": 1,
   "metadata": {
    "dotnet_interactive": {
     "language": "csharp"
    },
    "polyglot_notebook": {
     "kernelName": "csharp"
    },
    "vscode": {
     "languageId": "polyglot-notebook"
    }
   },
   "outputs": [
    {
     "data": {
      "text/html": [
       "<div><div></div><div></div><div><strong>Installed Packages</strong><ul><li><span>OpenCvSharp4.runtime.win, 4.10.0.20240616</span></li><li><span>OpenCvSharp4.Windows, 4.10.0.20240616</span></li></ul></div></div>"
      ]
     },
     "metadata": {},
     "output_type": "display_data"
    }
   ],
   "source": [
    "#r \"nuget: OpenCvSharp4.Windows\"\n",
    "#r \"nuget: OpenCvSharp4.runtime.win\"\n",
    "\n",
    "using OpenCvSharp;\n",
    "\n",
    "using(var mat = new Mat(\"unsplash.jpg\", ImreadModes.Color))\n",
    "{\n",
    "    for (int y = 0; y < mat.Height; y++)\n",
    "    {\n",
    "        for (int x = 0; x < mat.Width; x++)\n",
    "        {\n",
    "            Vec3b color = mat.Get<Vec3b>(y, x);\n",
    "            Vec3b newColor = new Vec3b(color.Item2, color.Item1, color.Item0);\n",
    "            mat.Set<Vec3b>(y, x, newColor);\n",
    "        }\n",
    "    }\n",
    "    Cv2.ImShow(\"Slow\", mat);\n",
    "    Cv2.WaitKey(0);\n",
    "    Cv2.DestroyAllWindows();\n",
    "}"
   ]
  }
 ],
 "metadata": {
  "kernelspec": {
   "display_name": ".NET (C#)",
   "language": "C#",
   "name": ".net-csharp"
  },
  "language_info": {
   "name": "csharp"
  },
  "polyglot_notebook": {
   "kernelInfo": {
    "defaultKernelName": "csharp",
    "items": [
     {
      "aliases": [],
      "name": "csharp"
     }
    ]
   }
  }
 },
 "nbformat": 4,
 "nbformat_minor": 2
}

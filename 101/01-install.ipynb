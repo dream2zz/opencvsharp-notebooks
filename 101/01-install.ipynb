{
 "cells": [
  {
   "cell_type": "markdown",
   "metadata": {},
   "source": [
    "## 安装\n",
    "\n",
    "### Windows\n",
    "将OpenCvSharp4和OpenCvSharp4.runtime.win NuGet 包添加到您的项目中。您可以改用OpenCvSharp4.Windows 。\n",
    "\n",
    "#### UWP\n",
    "将OpenCvSharp4和OpenCvSharp4.runtime.uwp NuGet 包添加到您的项目中。请注意， OpenCvSharp4.runtime.win和OpenCvSharp4.Windows不适用于 UWP。\n",
    "\n",
    "### Ubuntu 22.04\n",
    "将OpenCvSharp4和OpenCvSharp4.runtime.ubuntu.22.04.x64 NuGet 包添加到您的项目中。"
   ]
  },
  {
   "cell_type": "code",
   "execution_count": null,
   "metadata": {
    "vscode": {
     "languageId": "shellscript"
    }
   },
   "outputs": [],
   "source": [
    "dotnet new console -n ConsoleApp01\n",
    "cd ConsoleApp01\n",
    "dotnet add package OpenCvSharp4\n",
    "dotnet add package OpenCvSharp4_.runtime.ubuntu.22.04-x64\n",
    "# -- edit Program.cs --- # \n",
    "dotnet run"
   ]
  },
  {
   "cell_type": "markdown",
   "metadata": {},
   "source": [
    "## 下载\n",
    "\n",
    "如果您不想使用 NuGet，请从[发布页面](https://github.com/shimat/opencvsharp/releases)获取 DLL 文件。"
   ]
  },
  {
   "cell_type": "markdown",
   "metadata": {},
   "source": [
    "## 前置要求\n",
    "\n",
    "- .NET Framework 4.8 / .NET 6 / .NET Standard 2.0\n",
    "- (Windows) Visual C++ 2022 Redistributable Package\n",
    "- (Windows Server) Media Foundation：`PS1> Install-WindowsFeature Server-Media-Foundation`\n",
    "- (Ubuntu) (Ubuntu) 您必须预先安装构建 OpenCV 所需的所有依赖包。必须安装许多软件包（例如 libjpeg）才能运行 OpenCV。 https://www.learnopencv.com/install-opencv-4-on-ubuntu-18-04/\n",
    "\n",
    "OpenCvSharp 不适用于 Unity 和 Xamarin 平台。对于 Unity，请考虑使用[OpenCV for Unity](https://assetstore.unity.com/packages/tools/integration/opencv-for-unity-21088)或其他一些解决方案。\n",
    "\n",
    "OpenCvSharp 不支持 CUDA。如果你想使用CUDA功能，你需要自己定制原生绑定。"
   ]
  }
 ],
 "metadata": {
  "language_info": {
   "name": "csharp"
  }
 },
 "nbformat": 4,
 "nbformat_minor": 2
}

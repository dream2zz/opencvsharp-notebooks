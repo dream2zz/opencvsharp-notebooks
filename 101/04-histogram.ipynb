{
 "cells": [
  {
   "cell_type": "markdown",
   "metadata": {},
   "source": [
    "## 直方图\n",
    "\n",
    "直方图是一种统计图表，用于表示数据集的分布情况。它通过将数据分成一系列的连续区间（通常称为\"桶\"或\"bin\"），并将每个区间内的数据点数量绘制成柱状图来展示数据的分布特征。直方图可以帮助我们快速了解数据的集中趋势、偏态和峰态等统计特性。\n",
    "\n",
    "以下是直方图的一些关键特点：\n",
    "\n",
    "1. **分组显示**：数据被分成若干个等宽或不等宽的区间。\n",
    "2. **柱状表示**：每个区间的高度表示该区间内数据点的数量。\n",
    "3. **连续数据**：直方图通常用于展示连续数据的分布。\n",
    "4. **无间隙**：直方图的柱状通常没有间隙，以显示数据的连续性。\n",
    "5. **频率分布**：直方图可以展示数据的频率分布，即每个区间内数据点的数量。\n",
    "6. **数据密度**：通过直方图的柱状高度，可以估计数据的密度函数。\n",
    "7. **异常值检测**：直方图可以帮助识别数据中的异常值或离群点。\n",
    "\n",
    "直方图的创建步骤通常包括：\n",
    "- 确定数据的范围和分组的个数。\n",
    "- 将数据分组到各个区间。\n",
    "- 计算每个区间内的数据点数量。\n",
    "- 绘制柱状图，柱状的高度对应于每个区间的数据点数量。\n",
    "\n",
    "直方图在数据分析、统计学、工程学、生物学等多个领域都有广泛的应用。通过直方图，我们可以更直观地理解数据的特性和分布模式。\n"
   ]
  },
  {
   "cell_type": "code",
   "execution_count": null,
   "metadata": {
    "dotnet_interactive": {
     "language": "csharp"
    },
    "polyglot_notebook": {
     "kernelName": "csharp"
    },
    "vscode": {
     "languageId": "polyglot-notebook"
    }
   },
   "outputs": [],
   "source": [
    "#r \"nuget: OpenCvSharp4.Windows\"\n",
    "using OpenCvSharp;"
   ]
  },
  {
   "cell_type": "code",
   "execution_count": null,
   "metadata": {
    "vscode": {
     "languageId": "polyglot-notebook"
    }
   },
   "outputs": [],
   "source": [
    "var src = Cv2.ImRead(\"unsplash.jpg\", ImreadModes.Grayscale);\n",
    "\n",
    "// Histogram view\n",
    "const int Width = 260, Height = 200;\n",
    "var render = new Mat(new Size(Width, Height), MatType.CV_8UC3, Scalar.All(255));\n",
    "\n",
    "// Calculate histogram\n",
    "var hist = new Mat();\n",
    "int[] hdims = { 256 }; // Histogram size for each dimension\n",
    "Rangef[] ranges = { new Rangef(0, 256), }; // min/max \n",
    "Cv2.CalcHist(new Mat[] { src }, new int[] { 0 }, null, hist, 1, hdims, ranges);\n",
    "\n",
    "// Get the max value of histogram\n",
    "Cv2.MinMaxLoc(hist, out _, out double maxVal);\n",
    "\n",
    "var color = Scalar.All(100);\n",
    "// Scales and draws histogram\n",
    "hist = hist * (maxVal != 0 ? Height / maxVal : 0.0);\n",
    "for (int j = 0; j < hdims[0]; ++j)\n",
    "{\n",
    "    int binW = (int)((double)Width / hdims[0]);\n",
    "    render.Rectangle(\n",
    "        new Point(j * binW, render.Rows - (int)hist.Get<float>(j)),\n",
    "        new Point((j + 1) * binW, render.Rows),\n",
    "        color,\n",
    "        -1);\n",
    "}\n",
    "\n",
    "using (new Window(\"Image\", src, WindowFlags.AutoSize | WindowFlags.FreeRatio))\n",
    "using (new Window(\"Histogram\", render, WindowFlags.AutoSize | WindowFlags.FreeRatio))\n",
    "{\n",
    "    Cv2.WaitKey();\n",
    "}"
   ]
  },
  {
   "cell_type": "markdown",
   "metadata": {},
   "source": [
    "* 创建一个新的 Mat 对象 render，用于绘制直方图。图像大小为 Width x Height，类型为 CV_8UC3（8位无符号3通道图像），初始颜色为白色（Scalar.All(255)）\n",
    "* 创建一个空的 Mat 对象 hist，用于存储计算得到的直方图，定义直方图的尺寸，每个维度的大小为256\n",
    "* 使用 Cv2.CalcHist 方法计算直方图。参数包括输入图像、通道索引、掩码、输出直方图、维度数、每个维度的大小和范围\n",
    "* 使用 Cv2.MinMaxLoc 方法获取直方图的最大值 maxVal\n",
    "* 绘制直方图\n",
    "  - 定义绘制直方图的颜色，将直方图的值缩放到视图的高度范围内\n",
    "  - 循环遍历直方图的每个条目\n",
    "  - 计算每个直方图条目的宽度\n",
    "  - 使用 render.Rectangle 方法绘制直方图的每个条目\n",
    "* 显示图像和直方图"
   ]
  },
  {
   "cell_type": "code",
   "execution_count": null,
   "metadata": {
    "vscode": {
     "languageId": "polyglot-notebook"
    }
   },
   "outputs": [],
   "source": [
    "#r \"nuget: OpenCvSharp4.Windows\"\n",
    "#r \"nuget: XPlot.Plotly.Interactive\""
   ]
  },
  {
   "cell_type": "code",
   "execution_count": 2,
   "metadata": {
    "vscode": {
     "languageId": "polyglot-notebook"
    }
   },
   "outputs": [
    {
     "data": {
      "text/html": [
       "<!DOCTYPE html>\r\n",
       "<div style=\"width: 900px; height: 500px;\" id=\"f3324c1c-680d-44de-b976-48d2c68a02c1\"></div><script type=\"text/javascript\">\r\n",
       "\n",
       "var renderPlotly = function() {\n",
       "    var xplotRequire = require.config({context:'xplot-3.0.1',paths:{plotly:'https://cdn.plot.ly/plotly-1.49.2.min'}}) || require;\n",
       "    xplotRequire(['plotly'], function(Plotly) { \r\n",
       "\n",
       "            var data = [{\"type\":\"scattergl\",\"x\":[0,1,2,3,4,5,6,7,8,9,10,11,12,13,14,15,16,17,18,19,20,21,22,23,24,25,26,27,28,29,30,31,32,33,34,35,36,37,38,39,40,41,42,43,44,45,46,47,48,49,50,51,52,53,54,55,56,57,58,59,60,61,62,63,64,65,66,67,68,69,70,71,72,73,74,75,76,77,78,79,80,81,82,83,84,85,86,87,88,89,90,91,92,93,94,95,96,97,98,99,100,101,102,103,104,105,106,107,108,109,110,111,112,113,114,115,116,117,118,119,120,121,122,123,124,125,126,127,128,129,130,131,132,133,134,135,136,137,138,139,140,141,142,143,144,145,146,147,148,149,150,151,152,153,154,155,156,157,158,159,160,161,162,163,164,165,166,167,168,169,170,171,172,173,174,175,176,177,178,179,180,181,182,183,184,185,186,187,188,189,190,191,192,193,194,195,196,197,198,199,200,201,202,203,204,205,206,207,208,209,210,211,212,213,214,215,216,217,218,219,220,221,222,223,224,225,226,227,228,229,230,231,232,233,234,235,236,237,238,239,240,241,242,243,244,245,246,247,248,249,250,251,252,253,254,255],\"y\":[225.0,82.0,111.0,131.0,204.0,288.0,328.0,305.0,313.0,292.0,276.0,237.0,239.0,213.0,207.0,232.0,208.0,232.0,240.0,213.0,272.0,290.0,288.0,357.0,351.0,447.0,452.0,567.0,533.0,624.0,525.0,496.0,538.0,562.0,599.0,604.0,632.0,672.0,729.0,685.0,750.0,706.0,783.0,791.0,803.0,820.0,922.0,923.0,989.0,922.0,905.0,885.0,1064.0,1070.0,1230.0,1262.0,1368.0,1677.0,1759.0,2041.0,2056.0,2390.0,1721.0,1854.0,1573.0,1396.0,1500.0,1508.0,1494.0,1461.0,1481.0,1495.0,1489.0,1495.0,1558.0,1379.0,1347.0,1371.0,1364.0,1400.0,1649.0,1746.0,1559.0,1618.0,1550.0,1412.0,1407.0,1420.0,1417.0,1479.0,1534.0,1488.0,1635.0,1597.0,1540.0,1532.0,1632.0,1527.0,1485.0,1430.0,1302.0,1518.0,1626.0,1360.0,1376.0,1354.0,1353.0,1321.0,1323.0,1222.0,1184.0,1249.0,1295.0,1140.0,1140.0,1101.0,1168.0,1198.0,1145.0,1171.0,1227.0,1215.0,1234.0,1185.0,1197.0,1181.0,1198.0,1142.0,1084.0,1164.0,1243.0,1376.0,1500.0,1368.0,1480.0,1421.0,1527.0,1616.0,1691.0,1737.0,1754.0,1884.0,1723.0,1716.0,1716.0,1643.0,1763.0,1711.0,1820.0,1758.0,1896.0,1671.0,1628.0,1590.0,1661.0,1823.0,1956.0,1762.0,1717.0,1874.0,1827.0,1895.0,1982.0,2066.0,2219.0,2199.0,2551.0,2724.0,2423.0,1871.0,1650.0,1616.0,1835.0,2005.0,1820.0,1528.0,1386.0,1347.0,1412.0,1354.0,1316.0,1146.0,1122.0,1150.0,1002.0,895.0,865.0,857.0,823.0,854.0,802.0,846.0,875.0,787.0,756.0,811.0,763.0,877.0,870.0,912.0,886.0,927.0,928.0,917.0,898.0,978.0,954.0,1039.0,1018.0,973.0,900.0,909.0,940.0,912.0,859.0,805.0,812.0,820.0,764.0,671.0,653.0,654.0,656.0,734.0,575.0,433.0,448.0,454.0,429.0,393.0,393.0,425.0,497.0,557.0,580.0,665.0,627.0,580.0,563.0,513.0,506.0,469.0,453.0,470.0,456.0,332.0,455.0,512.0,172.0,115.0,139.0,127.0,150.0,84.0,42.0,84.0],\"mode\":\"lines\"}];\n",
       "           var layout = {\"title\":\"Grayscale Histogram\",\"xaxis\":{\"title\":\"Bins\",\"_isSubplotObj\":true},\"yaxis\":{\"title\":\"# of Pixels\",\"_isSubplotObj\":true}};\n",
       "           Plotly.newPlot('f3324c1c-680d-44de-b976-48d2c68a02c1', data, layout);\n",
       "        \r\n",
       "});\n",
       "};\r\n",
       "// ensure `require` is available globally\r\n",
       "if ((typeof(require) !==  typeof(Function)) || (typeof(require.config) !== typeof(Function))) {\r\n",
       "    let require_script = document.createElement('script');\r\n",
       "    require_script.setAttribute('src', 'https://cdnjs.cloudflare.com/ajax/libs/require.js/2.3.6/require.min.js');\r\n",
       "    require_script.setAttribute('type', 'text/javascript');\r\n",
       "    \r\n",
       "    \r\n",
       "    require_script.onload = function() {\r\n",
       "        renderPlotly();\r\n",
       "    };\r\n",
       "\r\n",
       "    document.getElementsByTagName('head')[0].appendChild(require_script);\r\n",
       "}\r\n",
       "else {\r\n",
       "    renderPlotly();\r\n",
       "}\r\n",
       "\r\n",
       "</script>\r\n"
      ]
     },
     "metadata": {},
     "output_type": "display_data"
    }
   ],
   "source": [
    "using System;\n",
    "using System.Linq;\n",
    "using OpenCvSharp;\n",
    "using XPlot.Plotly;\n",
    "\n",
    "// 读取图像并转换为灰度图像\n",
    "var image = Cv2.ImRead(\"unsplash.jpg\", ImreadModes.Grayscale);\n",
    "\n",
    "// 计算直方图\n",
    "int[] histSize = { 256 };\n",
    "Rangef[] ranges = { new Rangef(0, 256) };\n",
    "Mat hist = new Mat();\n",
    "Cv2.CalcHist(new Mat[] { image }, new int[] { 0 }, null, hist, 1, histSize, ranges);\n",
    "\n",
    "// 获取直方图数据\n",
    "float[] histData = new float[256];\n",
    "for (int i = 0; i < hist.Rows; i++)\n",
    "{\n",
    "    histData[i] = hist.At<float>(i);\n",
    "}\n",
    "\n",
    "// 创建直方图数据\n",
    "var histogram = new Scattergl\n",
    "{\n",
    "    x = Enumerable.Range(0, 256).ToArray(),\n",
    "    y = histData,\n",
    "    mode = \"lines\"\n",
    "};\n",
    "\n",
    "// 显示直方图\n",
    "var chart = Chart.Plot(histogram);\n",
    "chart.WithTitle(\"Grayscale Histogram\");\n",
    "chart.WithXTitle(\"Bins\");\n",
    "chart.WithYTitle(\"# of Pixels\");\n",
    "display(chart);"
   ]
  }
 ],
 "metadata": {
  "kernelspec": {
   "display_name": ".NET (C#)",
   "language": "C#",
   "name": ".net-csharp"
  },
  "language_info": {
   "name": "csharp"
  },
  "polyglot_notebook": {
   "kernelInfo": {
    "defaultKernelName": "csharp",
    "items": [
     {
      "aliases": [],
      "name": "csharp"
     }
    ]
   }
  }
 },
 "nbformat": 4,
 "nbformat_minor": 2
}

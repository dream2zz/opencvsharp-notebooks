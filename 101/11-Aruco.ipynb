{
 "cells": [
  {
   "cell_type": "markdown",
   "metadata": {},
   "source": [
    "## Aruco\n",
    "Aruco 是一种基于二进制平方标记的开源库，广泛用于计算机视觉中的标记检测和姿态估计。Aruco 标记是一种特殊的二维码，具有高对比度和独特的二进制模式，便于检测和识别。\n",
    "\n",
    "### Aruco 标记的特点\n",
    "1. **唯一性**：每个 Aruco 标记都有一个唯一的 ID，可以通过其二进制模式识别。\n",
    "2. **高对比度**：标记通常是黑白的，便于在各种光照条件下检测。\n",
    "3. **易于生成**：可以使用 Aruco 库轻松生成和打印标记。\n",
    "\n",
    "### Aruco 的主要功能\n",
    "1. **标记检测**：识别图像中的 Aruco 标记，并返回标记的 ID 和角点位置。\n",
    "2. **姿态估计**：通过检测到的标记计算相机相对于标记的姿态（位置和方向）。\n",
    "3. **标记绘制**：在图像上绘制检测到的标记，便于可视化。\n",
    "\n",
    "### Aruco 库的使用\n",
    "Aruco 库通常与 OpenCV 一起使用，以下是一些常见的操作：\n",
    "\n",
    "1. **加载预定义字典**：\n",
    "    ```csharp\n",
    "    using var dictionary = CvAruco.GetPredefinedDictionary(PredefinedDictionaryName.Dict4X4_1000);\n",
    "    ```\n",
    "    预定义字典包含了一组预先生成的标记模式，可以直接使用。\n",
    "\n",
    "2. **检测标记**：\n",
    "    ```csharp\n",
    "    CvAruco.DetectMarkers(src, dictionary, out var corners, out var ids, detectorParameters, out var rejectedPoints);\n",
    "    ```\n",
    "    该函数检测图像中的标记，并返回标记的角点、ID 和被拒绝的点。\n",
    "\n",
    "3. **绘制检测到的标记**：\n",
    "    ```csharp\n",
    "    CvAruco.DrawDetectedMarkers(detectedMarkers, corners, ids, Scalar.Crimson);\n",
    "    ```\n",
    "    在图像上绘制检测到的标记，便于可视化。\n",
    "\n",
    "4. **姿态估计**：\n",
    "    ```csharp\n",
    "    CvAruco.EstimatePoseSingleMarkers(corners, markerLength, cameraMatrix, distCoeffs, rvecs, tvecs);\n",
    "    ```\n",
    "    通过检测到的标记计算相机的姿态。"
   ]
  },
  {
   "cell_type": "code",
   "execution_count": 3,
   "metadata": {
    "dotnet_interactive": {
     "language": "csharp"
    },
    "polyglot_notebook": {
     "kernelName": "csharp"
    },
    "vscode": {
     "languageId": "polyglot-notebook"
    }
   },
   "outputs": [
    {
     "data": {
      "text/html": [
       "<div><div></div><div></div><div><strong>Installed Packages</strong><ul><li><span>OpenCvSharp4, 4.10.0.20240616</span></li></ul></div></div>"
      ]
     },
     "metadata": {},
     "output_type": "display_data"
    }
   ],
   "source": [
    "#r \"nuget: OpenCvSharp4\"\n",
    "using OpenCvSharp;\n",
    "using OpenCvSharp.Aruco;"
   ]
  },
  {
   "cell_type": "code",
   "execution_count": 5,
   "metadata": {
    "dotnet_interactive": {
     "language": "csharp"
    },
    "polyglot_notebook": {
     "kernelName": "csharp"
    },
    "vscode": {
     "languageId": "polyglot-notebook"
    }
   },
   "outputs": [
    {
     "ename": "Error",
     "evalue": "System.TypeInitializationException: The type initializer for 'OpenCvSharp.Internal.NativeMethods' threw an exception.\n ---> System.DllNotFoundException: Unable to load shared library 'OpenCvSharpExtern' or one of its dependencies. In order to help diagnose loading problems, consider using a tool like strace. If you're using glibc, consider setting the LD_DEBUG environment variable: \n/home/codespace/.nuget/packages/microsoft.dotnet-interactive/1.0.522904/tools/net8.0/any/runtimes/linux-x64/native/OpenCvSharpExtern.so: cannot open shared object file: No such file or directory\n/usr/share/dotnet/shared/Microsoft.NETCore.App/8.0.7/OpenCvSharpExtern.so: cannot open shared object file: No such file or directory\n/home/codespace/.nuget/packages/microsoft.dotnet-interactive/1.0.522904/tools/net8.0/any/runtimes/linux-x64/native/libOpenCvSharpExtern.so: cannot open shared object file: No such file or directory\n/usr/share/dotnet/shared/Microsoft.NETCore.App/8.0.7/libOpenCvSharpExtern.so: cannot open shared object file: No such file or directory\n/home/codespace/.nuget/packages/microsoft.dotnet-interactive/1.0.522904/tools/net8.0/any/runtimes/linux-x64/native/OpenCvSharpExtern: cannot open shared object file: No such file or directory\n/usr/share/dotnet/shared/Microsoft.NETCore.App/8.0.7/OpenCvSharpExtern: cannot open shared object file: No such file or directory\n/home/codespace/.nuget/packages/microsoft.dotnet-interactive/1.0.522904/tools/net8.0/any/runtimes/linux-x64/native/libOpenCvSharpExtern: cannot open shared object file: No such file or directory\n/usr/share/dotnet/shared/Microsoft.NETCore.App/8.0.7/libOpenCvSharpExtern: cannot open shared object file: No such file or directory\n\n   at OpenCvSharp.Internal.NativeMethods.redirectError(CvErrorCallback errCallback, IntPtr userdata, IntPtr& prevUserdata)\n   at OpenCvSharp.Internal.ExceptionHandler.RegisterExceptionCallback()\n   at OpenCvSharp.Internal.NativeMethods.LoadLibraries(IEnumerable`1 additionalPaths)\n   at OpenCvSharp.Internal.NativeMethods..cctor()\n   --- End of inner exception stack trace ---\n   at OpenCvSharp.Internal.NativeMethods.imgcodecs_imread(String fileName, Int32 flags, IntPtr& returnValue)\n   at OpenCvSharp.Cv2.ImRead(String fileName, ImreadModes flags)\n   at Submission#6.<<Initialize>>d__0.MoveNext()\n--- End of stack trace from previous location ---\n   at Microsoft.CodeAnalysis.Scripting.ScriptExecutionState.RunSubmissionsAsync[TResult](ImmutableArray`1 precedingExecutors, Func`2 currentExecutor, StrongBox`1 exceptionHolderOpt, Func`2 catchExceptionOpt, CancellationToken cancellationToken)",
     "output_type": "error",
     "traceback": [
      "System.TypeInitializationException: The type initializer for 'OpenCvSharp.Internal.NativeMethods' threw an exception.\n",
      " ---> System.DllNotFoundException: Unable to load shared library 'OpenCvSharpExtern' or one of its dependencies. In order to help diagnose loading problems, consider using a tool like strace. If you're using glibc, consider setting the LD_DEBUG environment variable: \n",
      "/home/codespace/.nuget/packages/microsoft.dotnet-interactive/1.0.522904/tools/net8.0/any/runtimes/linux-x64/native/OpenCvSharpExtern.so: cannot open shared object file: No such file or directory\n",
      "/usr/share/dotnet/shared/Microsoft.NETCore.App/8.0.7/OpenCvSharpExtern.so: cannot open shared object file: No such file or directory\n",
      "/home/codespace/.nuget/packages/microsoft.dotnet-interactive/1.0.522904/tools/net8.0/any/runtimes/linux-x64/native/libOpenCvSharpExtern.so: cannot open shared object file: No such file or directory\n",
      "/usr/share/dotnet/shared/Microsoft.NETCore.App/8.0.7/libOpenCvSharpExtern.so: cannot open shared object file: No such file or directory\n",
      "/home/codespace/.nuget/packages/microsoft.dotnet-interactive/1.0.522904/tools/net8.0/any/runtimes/linux-x64/native/OpenCvSharpExtern: cannot open shared object file: No such file or directory\n",
      "/usr/share/dotnet/shared/Microsoft.NETCore.App/8.0.7/OpenCvSharpExtern: cannot open shared object file: No such file or directory\n",
      "/home/codespace/.nuget/packages/microsoft.dotnet-interactive/1.0.522904/tools/net8.0/any/runtimes/linux-x64/native/libOpenCvSharpExtern: cannot open shared object file: No such file or directory\n",
      "/usr/share/dotnet/shared/Microsoft.NETCore.App/8.0.7/libOpenCvSharpExtern: cannot open shared object file: No such file or directory\n",
      "\n",
      "   at OpenCvSharp.Internal.NativeMethods.redirectError(CvErrorCallback errCallback, IntPtr userdata, IntPtr& prevUserdata)\n",
      "   at OpenCvSharp.Internal.ExceptionHandler.RegisterExceptionCallback()\n",
      "   at OpenCvSharp.Internal.NativeMethods.LoadLibraries(IEnumerable`1 additionalPaths)\n",
      "   at OpenCvSharp.Internal.NativeMethods..cctor()\n",
      "   --- End of inner exception stack trace ---\n",
      "   at OpenCvSharp.Internal.NativeMethods.imgcodecs_imread(String fileName, Int32 flags, IntPtr& returnValue)\n",
      "   at OpenCvSharp.Cv2.ImRead(String fileName, ImreadModes flags)\n",
      "   at Submission#6.<<Initialize>>d__0.MoveNext()\n",
      "--- End of stack trace from previous location ---\n",
      "   at Microsoft.CodeAnalysis.Scripting.ScriptExecutionState.RunSubmissionsAsync[TResult](ImmutableArray`1 precedingExecutors, Func`2 currentExecutor, StrongBox`1 exceptionHolderOpt, Func`2 catchExceptionOpt, CancellationToken cancellationToken)"
     ]
    }
   ],
   "source": [
    "// The locations of the markers in the image at FilePath.Image.Aruco.\n",
    "const int upperLeftMarkerId = 160;\n",
    "const int upperRightMarkerId = 268;\n",
    "const int lowerRightMarkerId = 176;\n",
    "const int lowerLeftMarkerId = 168;\n",
    "\n",
    "var src = Cv2.ImRead(\"assets/aruco_markers_photo.jpg\");\n",
    "\n",
    "var detectorParameters = new DetectorParameters();\n",
    "detectorParameters.CornerRefinementMethod = CornerRefineMethod.Subpix;\n",
    "detectorParameters.CornerRefinementWinSize = 9;\n",
    "\n",
    "var dictionary = CvAruco.GetPredefinedDictionary(PredefinedDictionaryName.Dict4X4_1000);\n",
    "\n",
    "CvAruco.DetectMarkers(src, dictionary, out var corners, out var ids, detectorParameters, out var rejectedPoints);\n",
    "\n",
    "var detectedMarkers = src.Clone();\n",
    "CvAruco.DrawDetectedMarkers(detectedMarkers, corners, ids, Scalar.Crimson);\n",
    "\n",
    "// Find the index of the four markers in the ids array. We'll use this same index into the\n",
    "// corners array to find the corners of each marker.\n",
    "var upperLeftCornerIndex = Array.FindIndex(ids, id => id == upperLeftMarkerId);\n",
    "var upperRightCornerIndex = Array.FindIndex(ids, id => id == upperRightMarkerId);\n",
    "var lowerRightCornerIndex = Array.FindIndex(ids, id => id == lowerRightMarkerId);\n",
    "var lowerLeftCornerIndex = Array.FindIndex(ids, id => id == lowerLeftMarkerId);\n",
    "\n",
    "// Make sure we found all four markers.\n",
    "if (upperLeftCornerIndex < 0 || upperRightCornerIndex < 0\n",
    "        || lowerRightCornerIndex < 0 || lowerLeftCornerIndex < 0)\n",
    "{\n",
    "    return;\n",
    "}\n",
    "\n",
    "// Marker corners are stored clockwise beginning with the upper-left corner.\n",
    "// Get the first (upper-left) corner of the upper-left marker.\n",
    "var upperLeftPixel = corners[upperLeftCornerIndex][0];\n",
    "// Get the second (upper-right) corner of the upper-right marker.\n",
    "var upperRightPixel = corners[upperRightCornerIndex][1];\n",
    "// Get the third (lower-right) corner of the lower-right marker.\n",
    "var lowerRightPixel = corners[lowerRightCornerIndex][2];\n",
    "// Get the fourth (lower-left) corner of the lower-left marker.\n",
    "var lowerLeftPixel = corners[lowerLeftCornerIndex][3];\n",
    "\n",
    "// Create coordinates for passing to GetPerspectiveTransform\n",
    "var sourceCoordinates = new List<Point2f>\n",
    "    {\n",
    "        upperLeftPixel, upperRightPixel, lowerRightPixel, lowerLeftPixel\n",
    "    };\n",
    "var destinationCoordinates = new List<Point2f>\n",
    "    {\n",
    "        new Point2f(0, 0),\n",
    "        new Point2f(1024, 0),\n",
    "        new Point2f(1024, 1024),\n",
    "        new Point2f(0, 1024),\n",
    "    };\n",
    "\n",
    "var transform = Cv2.GetPerspectiveTransform(sourceCoordinates, destinationCoordinates);\n",
    "var normalizedImage = new Mat();\n",
    "Cv2.WarpPerspective(src, normalizedImage, transform, new Size(1024, 1024));\n",
    "\n",
    "Cv2.ImShow(\"Original Image\", src);\n",
    "Cv2.ImShow($\"Found {ids.Length} Markers\", detectedMarkers);\n",
    "Cv2.ImShow(\"Normalized Image\", normalizedImage);\n",
    "Cv2.WaitKey();\n",
    "Cv2.DestroyAllWindows();"
   ]
  }
 ],
 "metadata": {
  "kernelspec": {
   "display_name": ".NET (C#)",
   "language": "C#",
   "name": ".net-csharp"
  },
  "language_info": {
   "name": "csharp"
  },
  "polyglot_notebook": {
   "kernelInfo": {
    "defaultKernelName": "csharp",
    "items": [
     {
      "aliases": [],
      "name": "csharp"
     }
    ]
   }
  }
 },
 "nbformat": 4,
 "nbformat_minor": 2
}

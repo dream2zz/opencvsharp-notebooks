{
 "cells": [
  {
   "cell_type": "markdown",
   "metadata": {},
   "source": [
    "Keypoints Detect\n",
    "===\n",
    "\n",
    "## BRISK（Binary Robust Invariant Scalable Keypoints）\n",
    "\n",
    "BRISK是一种用于图像特征检测和描述的算法。它在计算机视觉领域中广泛应用于图像匹配、物体识别和图像拼接等任务。\n",
    "\n",
    "### BRISK算法的特点\n",
    "1. 二进制描述符： BRISK使用二进制描述符来表示关键点的局部特征。二进制描述符相比于传统的浮点描述符（如SIFT和SURF）具有更高的计算效率和更小的存储空间。\n",
    "2. 尺度不变性： BRISK算法能够检测和描述不同尺度下的关键点，这使得它在处理缩放变换的图像时表现良好。\n",
    "3. 旋转不变性： BRISK算法对图像的旋转变换具有鲁棒性，能够在旋转后的图像中正确匹配关键点。\n",
    "4. 高效性： BRISK算法设计上注重计算效率，适合实时应用，如视频处理和移动设备上的图像处理。\n",
    "\n",
    "### BRISK算法的工作原理\n",
    "1. 关键点检测： BRISK算法首先在图像中检测关键点。它使用一种基于FAST（Features from Accelerated Segment Test）算法的多尺度关键点检测方法。\n",
    "2. 关键点描述： 对于每个检测到的关键点，BRISK算法计算其描述符。描述符是通过对关键点周围的像素进行采样，并计算这些采样点之间的灰度差异得到的。\n",
    "3. 关键点匹配： 在图像匹配任务中，BRISK算法使用汉明距离（Hamming Distance）来比较二进制描述符，从而找到匹配的关键点对。"
   ]
  },
  {
   "cell_type": "code",
   "execution_count": 2,
   "metadata": {
    "dotnet_interactive": {
     "language": "csharp"
    },
    "polyglot_notebook": {
     "kernelName": "csharp"
    },
    "vscode": {
     "languageId": "polyglot-notebook"
    }
   },
   "outputs": [
    {
     "data": {
      "text/html": [
       "<div><div></div><div></div><div><strong>Installed Packages</strong><ul><li><span>OpenCvSharp4.Windows, 4.10.0.20240616</span></li></ul></div></div>"
      ]
     },
     "metadata": {},
     "output_type": "display_data"
    }
   ],
   "source": [
    "#r \"nuget: OpenCvSharp4.Windows\"\n",
    "using OpenCvSharp;"
   ]
  },
  {
   "cell_type": "code",
   "execution_count": 3,
   "metadata": {
    "dotnet_interactive": {
     "language": "csharp"
    },
    "polyglot_notebook": {
     "kernelName": "csharp"
    },
    "vscode": {
     "languageId": "polyglot-notebook"
    }
   },
   "outputs": [],
   "source": [
    "var gray = new Mat(\"assets/unsplash.jpg\", ImreadModes.Grayscale);\n",
    "var dst = new Mat(\"assets/unsplash.jpg\", ImreadModes.Color);\n",
    "\n",
    "var brisk = BRISK.Create();\n",
    "KeyPoint[] keypoints = brisk.Detect(gray);\n",
    "\n",
    "if (keypoints != null)\n",
    "{\n",
    "    var color = new Scalar(0, 255, 0);\n",
    "    foreach (KeyPoint kpt in keypoints)\n",
    "    {\n",
    "        float r = kpt.Size / 2;\n",
    "        Cv2.Circle(dst, (Point)kpt.Pt, (int)r, color);\n",
    "        Cv2.Line(dst,\n",
    "            (Point)new Point2f(kpt.Pt.X + r, kpt.Pt.Y + r),\n",
    "            (Point)new Point2f(kpt.Pt.X - r, kpt.Pt.Y - r),\n",
    "            color);\n",
    "        Cv2.Line(dst,\n",
    "            (Point)new Point2f(kpt.Pt.X - r, kpt.Pt.Y + r),\n",
    "            (Point)new Point2f(kpt.Pt.X + r, kpt.Pt.Y - r),\n",
    "            color);\n",
    "    }\n",
    "}\n",
    "\n",
    "\n",
    "Cv2.ImShow(\"BRISK\", dst);\n",
    "Cv2.WaitKey(0);\n",
    "Cv2.DestroyAllWindows();"
   ]
  },
  {
   "cell_type": "markdown",
   "metadata": {},
   "source": [
    "## ORB (Oriented FAST and Rotated BRIEF)\n",
    "ORB是一种用于图像关键点检测和描述的算法，它结合了FAST关键点检测器和BRIEF描述符，并进行了改进以提高性能和鲁棒性。\n",
    "\n",
    "### 主要特点：\n",
    "1. 关键点检测： ORB使用FAST（Features from Accelerated Segment Test）算法来检测图像中的关键点。FAST是一种快速且高效的关键点检测算法。\n",
    "2. 关键点方向： ORB通过计算关键点周围的灰度质心来确定关键点的方向，从而使得关键点具有方向性。这有助于在图像旋转时保持关键点的一致性。\n",
    "3. 描述符： ORB使用BRIEF（Binary Robust Independent Elementary Features）描述符，但进行了改进，使其对旋转和尺度变化更加鲁棒。ORB描述符是二进制的，这使得它在匹配时非常高效。\n",
    "4. 性能： ORB是一种快速且高效的算法，适用于实时应用。它在保持高性能的同时，提供了较好的匹配精度。\n",
    "\n",
    "## FREAK (Fast Retina Keypoint)\n",
    "FREAK是一种用于计算图像描述符的算法，通常与其他关键点检测算法（如ORB）结合使用。FREAK的设计灵感来自人类视网膜的结构。\n",
    "\n",
    "### 主要特点：\n",
    "1. 生物启发： FREAK的设计灵感来自人类视网膜的结构，模拟了视网膜中神经元的分布和响应模式。\n",
    "2. 描述符计算： FREAK描述符是二进制的，通过比较关键点周围一组特定位置的像素对的灰度值来生成。这些位置是根据视网膜的结构预先定义的。\n",
    "3. 效率： FREAK描述符的计算非常高效，适用于实时应用。由于描述符是二进制的，匹配过程也非常快速。\n",
    "4. 鲁棒性： FREAK描述符对光照变化、旋转和尺度变化具有较好的鲁棒性。\n",
    "\n",
    "###  总结\n",
    "- ORB：一种结合了FAST关键点检测和改进的BRIEF描述符的算法，具有高效、快速和鲁棒的特点，适用于实时应用。\n",
    "- FREAK：一种生物启发的二进制描述符计算算法，通常与其他关键点检测算法结合使用，具有高效和鲁棒的特点。\n",
    "\n",
    "这两种算法常常结合使用，以实现高效且鲁棒的图像关键点检测和描述。ORB负责检测关键点并计算其方向，而FREAK则负责计算这些关键点的描述符。\n"
   ]
  },
  {
   "cell_type": "code",
   "execution_count": 4,
   "metadata": {
    "vscode": {
     "languageId": "polyglot-notebook"
    }
   },
   "outputs": [],
   "source": [
    "using OpenCvSharp.XFeatures2D;\n",
    "\n",
    "var gray = new Mat(\"assets/unsplash.jpg\", ImreadModes.Grayscale);\n",
    "var dst = new Mat(\"assets/unsplash.jpg\", ImreadModes.Color);\n",
    "\n",
    "// ORB\n",
    "var orb = ORB.Create(1000);\n",
    "KeyPoint[] keypoints = orb.Detect(gray);\n",
    "\n",
    "// FREAK\n",
    "var freak = FREAK.Create();\n",
    "Mat freakDescriptors = new Mat();\n",
    "freak.Compute(gray, ref keypoints, freakDescriptors);\n",
    "\n",
    "if (keypoints != null)\n",
    "{\n",
    "    var color = new Scalar(0, 255, 0);\n",
    "    foreach (KeyPoint kpt in keypoints)\n",
    "    {\n",
    "        float r = kpt.Size / 2;\n",
    "        Cv2.Circle(dst, (Point)kpt.Pt, (int)r, color);\n",
    "        Cv2.Line(dst,\n",
    "            (Point)new Point2f(kpt.Pt.X + r, kpt.Pt.Y + r),\n",
    "            (Point)new Point2f(kpt.Pt.X - r, kpt.Pt.Y - r),\n",
    "            color);\n",
    "        Cv2.Line(dst,\n",
    "            (Point)new Point2f(kpt.Pt.X - r, kpt.Pt.Y + r),\n",
    "            (Point)new Point2f(kpt.Pt.X + r, kpt.Pt.Y - r),\n",
    "            color);\n",
    "    }\n",
    "}\n",
    "\n",
    "Cv2.ImShow(\"FREAK\", dst);\n",
    "Cv2.WaitKey(0);\n",
    "Cv2.DestroyAllWindows();"
   ]
  }
 ],
 "metadata": {
  "kernelspec": {
   "display_name": ".NET (C#)",
   "language": "C#",
   "name": ".net-csharp"
  },
  "language_info": {
   "name": "csharp"
  },
  "polyglot_notebook": {
   "kernelInfo": {
    "defaultKernelName": "csharp",
    "items": [
     {
      "aliases": [],
      "name": "csharp"
     }
    ]
   }
  }
 },
 "nbformat": 4,
 "nbformat_minor": 2
}

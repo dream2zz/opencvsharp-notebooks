{
 "cells": [
  {
   "cell_type": "markdown",
   "metadata": {},
   "source": [
    "DFT 离散傅里叶变换\n",
    "===\n",
    "\n",
    "DFT，即离散傅里叶变换（Discrete Fourier Transform），是一种将信号从时域（或空间域）转换到频域的数学工具。它在信号处理、图像处理、音频处理、数据压缩和许多其他领域中有着广泛的应用。\n",
    "\n",
    "### DFT的定义\n",
    "\n",
    "离散傅里叶变换的公式如下：\n",
    "\n",
    "$$\n",
    "X[k] = \\sum_{n=0}^{N-1} x[n] \\cdot e^{-j \\frac{2\\pi}{N} kn}\n",
    "$$\n",
    "\n",
    "其中：\n",
    "\n",
    "\n",
    "- **$ X[k] $**：频域信号的第 $ k $ 个分量，表示信号在第 $ k $ 个频率上的幅度和相位。\n",
    "- **$ x[n] $**：时域信号的第 $ n $ 个采样点，表示信号在第 $ n $ 个时间点的值。\n",
    "- **$ N $**：信号的总采样点数，表示信号在时域或频域的长度。\n",
    "- **$ j $**：虚数单位，满足 $ j^2 = -1 $，用于表示复数。\n",
    "- **$ e $**：自然对数的底数，约等于 2.71828，用于指数函数。\n",
    "- **$ k $**：频率索引，范围为 $ 0 $ 到 $ N-1 $，表示频域中的位置。\n",
    "- **$ n $**：时间索引，范围为 $ 0 $ 到 $ N-1 $，表示时域中的位置。\n",
    "\n",
    "### DFT的关键特性\n",
    "1. **线性**：DFT是线性的，即多个信号的DFT等于这些信号DFT的和。\n",
    "2. **周期性**：DFT的结果在频域是周期性的，周期为 $ N $。\n",
    "3. **对称性**：对于实数信号，DFT的结果是共轭对称的，即 $ X[N-k] = X^*[k] $。\n",
    "4. **能量守恒**：信号的总能量在时域和频域是相等的。\n",
    "5. **快速算法**：快速傅里叶变换（FFT）是一种高效的算法，可以快速计算DFT。\n",
    "\n",
    "### DFT的应用\n",
    "- **频谱分析**：分析信号的频率成分。\n",
    "- **滤波**：设计滤波器来去除或增强信号的特定频率成分。\n",
    "- **图像处理**：在频域中进行图像的滤波、锐化等操作。\n",
    "- **音频处理**：分析和修改音频信号的频率特性。\n",
    "- **数据压缩**：通过识别和去除不重要的频率成分来减少数据量。"
   ]
  },
  {
   "cell_type": "code",
   "execution_count": 7,
   "metadata": {
    "dotnet_interactive": {
     "language": "csharp"
    },
    "polyglot_notebook": {
     "kernelName": "csharp"
    },
    "vscode": {
     "languageId": "polyglot-notebook"
    }
   },
   "outputs": [
    {
     "data": {
      "text/html": [
       "<div><div></div><div></div><div><strong>Installed Packages</strong><ul><li><span>OpenCvSharp4.Windows, 4.10.0.20240616</span></li></ul></div></div>"
      ]
     },
     "metadata": {},
     "output_type": "display_data"
    }
   ],
   "source": [
    "#r \"nuget: OpenCvSharp4.Windows\"\n",
    "using OpenCvSharp;"
   ]
  },
  {
   "cell_type": "code",
   "execution_count": 8,
   "metadata": {
    "vscode": {
     "languageId": "polyglot-notebook"
    }
   },
   "outputs": [],
   "source": [
    "var img = Cv2.ImRead(\"unsplash.jpg\", ImreadModes.Grayscale);\n",
    "\n",
    "// 扩展图像到最佳尺寸\n",
    "var padded = new Mat();\n",
    "int m = Cv2.GetOptimalDFTSize(img.Rows);\n",
    "int n = Cv2.GetOptimalDFTSize(img.Cols); // on the border add zero values\n",
    "Cv2.CopyMakeBorder(img, padded, 0, m - img.Rows, 0, n - img.Cols, BorderTypes.Constant, Scalar.All(0));\n",
    "\n",
    "// 添加一个全零的平面\n",
    "var paddedF32 = new Mat();\n",
    "padded.ConvertTo(paddedF32, MatType.CV_32F);\n",
    "Mat[] planes = { paddedF32, Mat.Zeros(padded.Size(), MatType.CV_32F) };\n",
    "var complex = new Mat();\n",
    "Cv2.Merge(planes, complex);\n",
    "\n",
    "// 进行DFT\n",
    "var dft = new Mat();\n",
    "Cv2.Dft(complex, dft);\n",
    "\n",
    "// 计算幅度并转换为对数尺度\n",
    "// => log(1 + sqrt(Re(DFT(I))^2 + Im(DFT(I))^2))\n",
    "Cv2.Split(dft, out var dftPlanes);  // planes[0] = Re(DFT(I), planes[1] = Im(DFT(I))\n",
    "\n",
    "// planes[0] = magnitude\n",
    "var magnitude = new Mat();\n",
    "Cv2.Magnitude(dftPlanes[0], dftPlanes[1], magnitude);\n",
    "\n",
    "Mat magnitude1 = magnitude + Scalar.All(1);  // switch to logarithmic scale\n",
    "Cv2.Log(magnitude1, magnitude1);\n",
    "\n",
    "// 如果光谱的行数或列数为奇数，则裁剪光谱\n",
    "var spectrum = magnitude1[\n",
    "    new Rect(0, 0, magnitude1.Cols & -2, magnitude1.Rows & -2)];\n",
    "\n",
    "// 重新排列傅立叶图像的象限，使原点位于图像中心\n",
    "int cx = spectrum.Cols / 2;\n",
    "int cy = spectrum.Rows / 2;\n",
    "\n",
    "var q0 = new Mat(spectrum, new Rect(0, 0, cx, cy));   // Top-Left - Create a ROI per quadrant\n",
    "var q1 = new Mat(spectrum, new Rect(cx, 0, cx, cy));  // Top-Right\n",
    "var q2 = new Mat(spectrum, new Rect(0, cy, cx, cy));  // Bottom-Left\n",
    "var q3 = new Mat(spectrum, new Rect(cx, cy, cx, cy)); // Bottom-Right\n",
    "\n",
    "// swap quadrants (Top-Left with Bottom-Right)\n",
    "var tmp = new Mat();\n",
    "q0.CopyTo(tmp);\n",
    "q3.CopyTo(q0);\n",
    "tmp.CopyTo(q3);\n",
    "\n",
    "// swap quadrant (Top-Right with Bottom-Left)\n",
    "q1.CopyTo(tmp);\n",
    "q2.CopyTo(q1);\n",
    "tmp.CopyTo(q2);\n",
    "\n",
    "// 将包含浮点值的矩阵转换为\n",
    "Cv2.Normalize(spectrum, spectrum, 0, 255, NormTypes.MinMax);\n",
    "spectrum.ConvertTo(spectrum, MatType.CV_8U);\n",
    "\n",
    "// Show the result\n",
    "Cv2.ImShow(\"Input Image\", img);\n",
    "Cv2.ImShow(\"Spectrum Magnitude\", spectrum);\n",
    "\n",
    "// 计算逆DFT并显示重建图像\n",
    "var inverseTransform = new Mat();\n",
    "Cv2.Dft(dft, inverseTransform, DftFlags.Inverse | DftFlags.RealOutput);\n",
    "Cv2.Normalize(inverseTransform, inverseTransform, 0, 255, NormTypes.MinMax);\n",
    "inverseTransform.ConvertTo(inverseTransform, MatType.CV_8U);\n",
    "\n",
    "Cv2.ImShow(\"Reconstructed by Inverse DFT\", inverseTransform);\n",
    "Cv2.WaitKey();\n",
    "Cv2.DestroyAllWindows();"
   ]
  }
 ],
 "metadata": {
  "kernelspec": {
   "display_name": ".NET (C#)",
   "language": "C#",
   "name": ".net-csharp"
  },
  "language_info": {
   "name": "csharp"
  },
  "polyglot_notebook": {
   "kernelInfo": {
    "defaultKernelName": "csharp",
    "items": [
     {
      "aliases": [],
      "name": "csharp"
     }
    ]
   }
  }
 },
 "nbformat": 4,
 "nbformat_minor": 2
}

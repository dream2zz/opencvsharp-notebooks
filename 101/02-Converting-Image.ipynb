{
 "cells": [
  {
   "cell_type": "code",
   "execution_count": null,
   "metadata": {
    "dotnet_interactive": {
     "language": "csharp"
    },
    "polyglot_notebook": {
     "kernelName": "csharp"
    },
    "vscode": {
     "languageId": "polyglot-notebook"
    }
   },
   "outputs": [],
   "source": [
    "#r \"nuget: OpenCvSharp4.Windows\"\n",
    "#r \"nuget: OpenCvSharp4.Extensions\"\n",
    "\n",
    "using OpenCvSharp;\n",
    "using OpenCvSharp.Extensions;\n",
    "using System.Drawing;"
   ]
  },
  {
   "cell_type": "markdown",
   "metadata": {},
   "source": [
    "### Mat -> System.Drawing.Bitmap"
   ]
  },
  {
   "cell_type": "code",
   "execution_count": null,
   "metadata": {
    "dotnet_interactive": {
     "language": "csharp"
    },
    "polyglot_notebook": {
     "kernelName": "csharp"
    },
    "vscode": {
     "languageId": "polyglot-notebook"
    }
   },
   "outputs": [],
   "source": [
    "Mat mat = new Mat(\"unsplash.jpg\", ImreadModes.Color);\n",
    "Bitmap bitmap = BitmapConverter.ToBitmap(mat);"
   ]
  },
  {
   "cell_type": "markdown",
   "metadata": {},
   "source": [
    "### System.Drawing.Bitmap -> Mat"
   ]
  },
  {
   "cell_type": "code",
   "execution_count": null,
   "metadata": {
    "dotnet_interactive": {
     "language": "csharp"
    },
    "polyglot_notebook": {
     "kernelName": "csharp"
    },
    "vscode": {
     "languageId": "polyglot-notebook"
    }
   },
   "outputs": [],
   "source": [
    "Bitmap bitmap = new Bitmap(\"foobar.jpg\");\n",
    "Mat mat = OpenCvSharp.Extensions.BitmapConverter.ToMat(bitmap);"
   ]
  },
  {
   "cell_type": "markdown",
   "metadata": {},
   "source": [
    "### Mat -> byte[]"
   ]
  },
  {
   "cell_type": "code",
   "execution_count": null,
   "metadata": {
    "dotnet_interactive": {
     "language": "csharp"
    },
    "polyglot_notebook": {
     "kernelName": "csharp"
    },
    "vscode": {
     "languageId": "polyglot-notebook"
    }
   },
   "outputs": [],
   "source": [
    "Mat mat = new Mat(\"foobar.jpg\", ImreadModes.Color);\n",
    "\n",
    "byte[] bytes1 = mat.ToBytes(\".png\");\n",
    "\n",
    "byte[] bytes2;\n",
    "Cv2.ImEncode(\".jpg\", mat, out bytes2);"
   ]
  },
  {
   "cell_type": "markdown",
   "metadata": {},
   "source": [
    "### byte[] -> Mat"
   ]
  },
  {
   "cell_type": "code",
   "execution_count": null,
   "metadata": {
    "dotnet_interactive": {
     "language": "csharp"
    },
    "polyglot_notebook": {
     "kernelName": "csharp"
    },
    "vscode": {
     "languageId": "polyglot-notebook"
    }
   },
   "outputs": [],
   "source": [
    "byte[] imageData = System.IO.File.ReadAllBytes(\"foobar.jpg\");\n",
    "\n",
    "Mat colorMat = Mat.FromImageData(imageData, ImreadModes.Color);\n",
    "Mat grayscaleMat = Mat.FromImageData(imageData, ImreadModes.Grayscale);\n",
    "\n",
    "Mat alt = Cv2.ImDecode(imageData, ImreadModes.Grayscale);"
   ]
  }
 ],
 "metadata": {
  "kernelspec": {
   "display_name": ".NET (C#)",
   "language": "C#",
   "name": ".net-csharp"
  },
  "language_info": {
   "name": "csharp",
   "targetFramework": "net6.0"
  },
  "polyglot_notebook": {
   "kernelInfo": {
    "defaultKernelName": "csharp",
    "items": [
     {
      "aliases": [],
      "name": "csharp"
     }
    ]
   }
  }
 },
 "nbformat": 4,
 "nbformat_minor": 2
}

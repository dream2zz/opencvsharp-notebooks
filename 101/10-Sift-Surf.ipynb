{
 "cells": [
  {
   "cell_type": "markdown",
   "metadata": {},
   "source": [
    "SIFT（Scale-Invariant Feature Transform）和SURF（Speeded-Up Robust Features）是两种常用的图像特征检测和描述算法。它们在计算机视觉领域中广泛应用于图像匹配、物体识别、3D重建等任务。\n",
    "\n",
    "### SIFT（尺度不变特征变换）\n",
    "SIFT是一种用于检测和描述局部特征的算法，具有尺度不变性和旋转不变性。它由David Lowe在1999年提出，主要包括以下几个步骤：\n",
    "1. 尺度空间极值检测： 通过高斯模糊和差分高斯（DoG）来检测图像中的极值点，这些极值点在不同尺度下具有显著性。\n",
    "2. 关键点定位： 对检测到的极值点进行精确定位，去除低对比度的关键点和边缘响应较强的关键点。\n",
    "3. 方向分配： 计算每个关键点的主方向，使得描述符具有旋转不变性。\n",
    "4. 关键点描述： 在关键点周围生成一个描述符，通常是一个128维的向量，用于描述关键点的局部图像特征。\n",
    "5. 特征匹配： 使用欧氏距离或其他度量方法对描述符进行匹配，找到相似的特征点。\n",
    "\n",
    "### SURF（加速稳健特征）\n",
    "SURF是一种基于SIFT改进的特征检测和描述算法，由Herbert Bay等人在2006年提出。SURF的主要目标是提高计算效率，同时保持对尺度和旋转的鲁棒性。SURF的主要步骤如下：\n",
    "1. 积分图像： 使用积分图像加速图像卷积操作，提高计算效率。\n",
    "2. Hessian矩阵： 使用Hessian矩阵的行列式来检测关键点，Hessian矩阵在图像的亮度变化区域具有显著性。\n",
    "3. 方向分配： 计算每个关键点的主方向，使得描述符具有旋转不变性。\n",
    "4. 关键点描述： 在关键点周围生成一个描述符，通常是一个64维的向量，用于描述关键点的局部图像特征。\n",
    "5. 特征匹配： 使用欧氏距离或其他度量方法对描述符进行匹配，找到相似的特征点。\n",
    "\n",
    "### SIFT和SURF的比较\n",
    "- 计算效率： SURF使用积分图像和Hessian矩阵，计算效率比SIFT更高。\n",
    "- 描述符维度： SIFT的描述符是128维的，而SURF的描述符是64维的，因此SURF的匹配速度更快。\n",
    "- 鲁棒性： SIFT在检测和描述特征点时具有更高的精度和鲁棒性，尤其是在处理复杂场景和噪声图像时。"
   ]
  },
  {
   "cell_type": "code",
   "execution_count": 3,
   "metadata": {
    "dotnet_interactive": {
     "language": "csharp"
    },
    "polyglot_notebook": {
     "kernelName": "csharp"
    },
    "vscode": {
     "languageId": "polyglot-notebook"
    }
   },
   "outputs": [
    {
     "data": {
      "text/html": [
       "<div><div></div><div></div><div><strong>Installed Packages</strong><ul><li><span>opencvsharp4, 4.10.0.20240616</span></li></ul></div></div>"
      ]
     },
     "metadata": {},
     "output_type": "display_data"
    }
   ],
   "source": [
    "#r \"nuget: OpenCvSharp4\"\n",
    "using OpenCvSharp;\n",
    "using OpenCvSharp.Features2D;\n",
    "using OpenCvSharp.XFeatures2D;\n",
    "\n",
    "private void MatchBy(dynamic ft)\n",
    "{\n",
    "    var gray1 = new Mat();\n",
    "    var gray2 = new Mat();\n",
    "\n",
    "    var src1 = new Mat(\"assets/match1.png\", ImreadModes.Color);\n",
    "    var src2 = new Mat(\"assets/match2.png\", ImreadModes.Color);\n",
    "\n",
    "    Cv2.CvtColor(src1, gray1, ColorConversionCodes.BGR2GRAY);\n",
    "    Cv2.CvtColor(src2, gray2, ColorConversionCodes.BGR2GRAY);\n",
    "\n",
    "    // Detect the keypoints and generate their descriptors SIFT\n",
    "    var descriptors1 = new Mat<float>();\n",
    "    var descriptors2 = new Mat<float>();\n",
    "    ft.DetectAndCompute(gray1, null, out KeyPoint[] keypoints1, descriptors1);\n",
    "    ft.DetectAndCompute(gray2, null, out KeyPoint[] keypoints2, descriptors2);\n",
    "\n",
    "    // Match descriptor vectors\n",
    "    var bfMatcher = new BFMatcher(NormTypes.L2, false);\n",
    "    var flannMatcher = new FlannBasedMatcher();\n",
    "    DMatch[] bfMatches = bfMatcher.Match(descriptors1, descriptors2);\n",
    "    DMatch[] flannMatches = flannMatcher.Match(descriptors1, descriptors2);\n",
    "\n",
    "    // Draw matches\n",
    "    var bfView = new Mat();\n",
    "    Cv2.DrawMatches(gray1, keypoints1, gray2, keypoints2, bfMatches, bfView);\n",
    "    var flannView = new Mat();\n",
    "    Cv2.DrawMatches(gray1, keypoints1, gray2, keypoints2, flannMatches, flannView);\n",
    "\n",
    "    Cv2.ImShow(\"SIFT matching (by BFMather)\", bfView);\n",
    "    Cv2.ImShow(\"SIFT matching (by FlannBasedMatcher)\", flannView);\n",
    "    Cv2.WaitKey();\n",
    "    Cv2.DestroyAllWindows();\n",
    "}"
   ]
  },
  {
   "cell_type": "code",
   "execution_count": 4,
   "metadata": {
    "vscode": {
     "languageId": "polyglot-notebook"
    }
   },
   "outputs": [],
   "source": [
    "var sift = SIFT.Create();\n",
    "MatchBy(sift);\n",
    "\n",
    "var suft = SURF.Create(200, 4, 2, true);\n",
    "MatchBy(suft);"
   ]
  }
 ],
 "metadata": {
  "kernelspec": {
   "display_name": ".NET (C#)",
   "language": "C#",
   "name": ".net-csharp"
  },
  "language_info": {
   "name": "csharp"
  },
  "polyglot_notebook": {
   "kernelInfo": {
    "defaultKernelName": "csharp",
    "items": [
     {
      "aliases": [],
      "name": "csharp"
     }
    ]
   }
  }
 },
 "nbformat": 4,
 "nbformat_minor": 2
}
